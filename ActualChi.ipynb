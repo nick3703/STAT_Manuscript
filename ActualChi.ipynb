{
 "cells": [
  {
   "cell_type": "code",
   "execution_count": 1,
   "id": "657bc6ec",
   "metadata": {},
   "outputs": [],
   "source": [
    "import numpy as np\n",
    "import matplotlib.pyplot as plt\n",
    "import os\n",
    "import feather\n",
    "num_t = 51\n",
    "num_x = 11\n",
    "num_y = 11"
   ]
  },
  {
   "cell_type": "code",
   "execution_count": 4,
   "id": "1db9775e",
   "metadata": {},
   "outputs": [],
   "source": [
    "os.chdir('C:\\\\Users\\\\nicholas.clark\\\\OneDrive - West Point\\\\Desktop\\\\Spatial Research\\\\HawkesSim\\\\simdata')"
   ]
  },
  {
   "cell_type": "code",
   "execution_count": 16,
   "id": "e7576dbc",
   "metadata": {},
   "outputs": [],
   "source": [
    "n_classes = 2\n",
    "n_examples = 50\n",
    "sim_patterns = [None]*n_classes"
   ]
  },
  {
   "cell_type": "code",
   "execution_count": 52,
   "id": "d48c59b6",
   "metadata": {},
   "outputs": [],
   "source": [
    "process = [\"hawkes_chi\",\"lgcp_chi\"]\n",
    "sim_patterns = [None]*n_classes\n",
    "filename = [None]*n_examples\n",
    "for i in range(n_classes):\n",
    "    sim_patterns[i] = [None]*n_examples\n",
    "    for j in range(n_examples):\n",
    "        filename[j]= process[i] + \"_\"+str(j+1)+\".feather\"\n",
    "        df = feather.read_dataframe(filename[j])\n",
    "        df = df.drop(columns = ['t','x'],axis=1)\n",
    "        sim_patterns[i][j] =df"
   ]
  },
  {
   "cell_type": "code",
   "execution_count": 53,
   "id": "343f95dc",
   "metadata": {},
   "outputs": [
    {
     "data": {
      "text/plain": [
       "0.29671437210239876"
      ]
     },
     "execution_count": 53,
     "metadata": {},
     "output_type": "execute_result"
    }
   ],
   "source": [
    "#df = feather.read_dataframe(\"hawkes_disc_11.feather\")\n",
    "sim_patterns[1][49].mean().mean()"
   ]
  },
  {
   "cell_type": "code",
   "execution_count": 55,
   "id": "ce6787c1",
   "metadata": {},
   "outputs": [],
   "source": [
    "sim_imgs = np.asarray(sim_patterns)"
   ]
  },
  {
   "cell_type": "code",
   "execution_count": 56,
   "id": "751f3816",
   "metadata": {},
   "outputs": [
    {
     "name": "stdout",
     "output_type": "stream",
     "text": [
      "(2, 50, 451, 11)\n"
     ]
    }
   ],
   "source": [
    "print(sim_imgs.shape)"
   ]
  },
  {
   "cell_type": "code",
   "execution_count": 57,
   "id": "d5b3c478",
   "metadata": {},
   "outputs": [
    {
     "data": {
      "text/plain": [
       "0.2967143721023987"
      ]
     },
     "execution_count": 57,
     "metadata": {},
     "output_type": "execute_result"
    }
   ],
   "source": [
    "sim_imgs[1][49].mean()"
   ]
  },
  {
   "cell_type": "code",
   "execution_count": 58,
   "id": "cdb24c8f",
   "metadata": {},
   "outputs": [
    {
     "name": "stdout",
     "output_type": "stream",
     "text": [
      "0.07065674648876841\n",
      "0.08568889342515651\n",
      "0.11147616597933951\n",
      "0.13008574317694543\n",
      "0.08510697083695062\n",
      "0.12218675960742109\n",
      "0.10972389719432618\n",
      "0.07652749295746508\n",
      "0.11659328165861826\n",
      "0.13977941468956762\n",
      "0.11286860328542891\n",
      "0.08746797891930369\n",
      "0.14808674360272167\n",
      "0.17727697528324227\n",
      "0.18031376443576974\n",
      "0.08674709702013117\n",
      "0.06599949673975847\n",
      "0.12567471957543785\n",
      "0.11308484347635417\n",
      "0.11589174029512439\n",
      "0.12288440035867754\n",
      "0.13032522451578676\n",
      "0.12439531876148574\n",
      "0.11566452963228069\n",
      "0.09659849954011379\n",
      "0.07303530732619079\n",
      "0.1565310815207237\n",
      "0.10473631434643982\n",
      "0.18525388983476476\n",
      "0.11668015154366107\n",
      "0.10896612200440609\n",
      "0.10142453203115742\n",
      "0.12356164415844118\n",
      "0.042488637740024426\n",
      "0.14313077196651114\n",
      "0.15834096559899735\n",
      "0.1891176900444308\n",
      "0.16349773750269248\n",
      "0.10279023389086761\n",
      "0.14537606188581365\n",
      "0.12487257492131432\n",
      "0.06414703097789043\n",
      "0.11894526957517171\n",
      "0.13648274724670617\n",
      "0.017576890107685816\n",
      "0.16225092305347566\n",
      "0.04716620317777187\n",
      "0.18831383887245334\n",
      "0.15585440656024474\n",
      "0.1841543234975197\n"
     ]
    }
   ],
   "source": [
    "\n",
    "for i in range(n_examples):\n",
    "    print(sim_imgs[0][i].var()-sim_imgs[1][i].var())\n"
   ]
  },
  {
   "cell_type": "code",
   "execution_count": 59,
   "id": "e962547c",
   "metadata": {},
   "outputs": [],
   "source": [
    "sim_imgs = sim_imgs.reshape(2,50,41,11,11)"
   ]
  },
  {
   "cell_type": "code",
   "execution_count": 60,
   "id": "f600bb40",
   "metadata": {},
   "outputs": [
    {
     "name": "stdout",
     "output_type": "stream",
     "text": [
      "(2, 50, 41, 11, 11)\n"
     ]
    }
   ],
   "source": [
    "#print(test.shape)\n",
    "\n",
    "print(sim_imgs.shape)"
   ]
  },
  {
   "cell_type": "code",
   "execution_count": 61,
   "id": "e4577c63",
   "metadata": {},
   "outputs": [
    {
     "name": "stdout",
     "output_type": "stream",
     "text": [
      "(50, 41, 11, 11)\n"
     ]
    }
   ],
   "source": [
    "print(sim_imgs[0,:,:,:,:].shape)"
   ]
  },
  {
   "cell_type": "code",
   "execution_count": 69,
   "id": "8852ec72",
   "metadata": {},
   "outputs": [
    {
     "name": "stdout",
     "output_type": "stream",
     "text": [
      "2.12.0\n"
     ]
    }
   ],
   "source": [
    "# Playing with CNN\n",
    "from tensorflow.keras.layers import Input, Conv2D, Lambda, Dense, Flatten,MaxPooling2D, concatenate, Dropout\n",
    "from tensorflow.keras.models import Model, Sequential\n",
    "from tensorflow.keras.constraints import Constraint\n",
    "from tensorflow.keras.optimizers import SGD, Adam, RMSprop, Adadelta\n",
    "from tensorflow.keras.regularizers import l1, l2\n",
    "from tensorflow.keras.utils import plot_model\n",
    "from tensorflow.keras import backend as K\n",
    "\n",
    "\n",
    "import tensorflow as tf\n",
    "print(tf.__version__)\n",
    "from tensorflow import keras\n",
    "from tensorflow.keras import layers\n",
    "hawkes_dat = sim_imgs[0,:,:,:,:]\n",
    "lgcp_dat = sim_imgs[1,:,:,:,:]\n",
    "\n",
    "hawkes_labels = np.array([1 for _ in range(len(hawkes_dat))])\n",
    "lgcp_labels = np.array([0 for _ in range(len(lgcp_dat))])\n",
    "x_train = np.concatenate((hawkes_dat[:35], lgcp_dat[:35]), axis=0)\n",
    "y_train = np.concatenate((hawkes_labels[:35],lgcp_labels[:35]),axis=0)\n",
    "x_val = np.concatenate((hawkes_dat[35:],lgcp_dat[35:]),axis=0)\n",
    "y_val = np.concatenate((hawkes_labels[35:],lgcp_labels[35:]),axis=0)"
   ]
  },
  {
   "cell_type": "code",
   "execution_count": 70,
   "id": "a606b31a",
   "metadata": {},
   "outputs": [
    {
     "data": {
      "text/plain": [
       "0.5"
      ]
     },
     "execution_count": 70,
     "metadata": {},
     "output_type": "execute_result"
    }
   ],
   "source": [
    "y_train.mean()"
   ]
  },
  {
   "cell_type": "code",
   "execution_count": 71,
   "id": "0c5bf017",
   "metadata": {},
   "outputs": [
    {
     "name": "stdout",
     "output_type": "stream",
     "text": [
      "Model: \"3dcnn\"\n",
      "_________________________________________________________________\n",
      " Layer (type)                Output Shape              Param #   \n",
      "=================================================================\n",
      " input_4 (InputLayer)        [(None, 41, 11, 11, 1)]   0         \n",
      "                                                                 \n",
      " conv3d_6 (Conv3D)           (None, 39, 9, 9, 64)      1792      \n",
      "                                                                 \n",
      " max_pooling3d_6 (MaxPooling  (None, 19, 4, 4, 64)     0         \n",
      " 3D)                                                             \n",
      "                                                                 \n",
      " batch_normalization_6 (Batc  (None, 19, 4, 4, 64)     256       \n",
      " hNormalization)                                                 \n",
      "                                                                 \n",
      " conv3d_7 (Conv3D)           (None, 17, 2, 2, 64)      110656    \n",
      "                                                                 \n",
      " max_pooling3d_7 (MaxPooling  (None, 8, 1, 1, 64)      0         \n",
      " 3D)                                                             \n",
      "                                                                 \n",
      " batch_normalization_7 (Batc  (None, 8, 1, 1, 64)      256       \n",
      " hNormalization)                                                 \n",
      "                                                                 \n",
      " global_average_pooling3d_3   (None, 64)               0         \n",
      " (GlobalAveragePooling3D)                                        \n",
      "                                                                 \n",
      " dense_6 (Dense)             (None, 512)               33280     \n",
      "                                                                 \n",
      " dropout_3 (Dropout)         (None, 512)               0         \n",
      "                                                                 \n",
      " dense_7 (Dense)             (None, 1)                 513       \n",
      "                                                                 \n",
      "=================================================================\n",
      "Total params: 146,753\n",
      "Trainable params: 146,497\n",
      "Non-trainable params: 256\n",
      "_________________________________________________________________\n"
     ]
    }
   ],
   "source": [
    "def get_model(width=41, height=11, depth=11):\n",
    "    \"\"\"Build a 3D convolutional neural network model.\"\"\"\n",
    "\n",
    "    inputs = keras.Input((width, height, depth, 1))\n",
    "\n",
    "    x = layers.Conv3D(filters=64, kernel_size=3, activation=\"relu\")(inputs)\n",
    "    x = layers.MaxPool3D(pool_size=2)(x)\n",
    "    x = layers.BatchNormalization()(x)\n",
    "\n",
    "    x = layers.Conv3D(filters=64, kernel_size=3, activation=\"relu\")(x)\n",
    "    x = layers.MaxPool3D(pool_size=2)(x)\n",
    "    x = layers.BatchNormalization()(x)\n",
    "\n",
    "#    x = layers.Conv3D(filters=128, kernel_size=3, activation=\"relu\")(x)\n",
    "#    x = layers.MaxPool3D(pool_size=2)(x)\n",
    "#    x = layers.BatchNormalization()(x)#\n",
    "\n",
    "#    x = layers.Conv3D(filters=256, kernel_size=3, activation=\"relu\")(x)\n",
    "#    x = layers.MaxPool3D(pool_size=2)(x)\n",
    "#    x = layers.BatchNormalization()(x)\n",
    "\n",
    "    x = layers.GlobalAveragePooling3D()(x)\n",
    "    x = layers.Dense(units=512, activation=\"relu\")(x)\n",
    "    x = layers.Dropout(0.3)(x)\n",
    "\n",
    "    outputs = layers.Dense(units=1, activation=\"sigmoid\")(x)\n",
    "\n",
    "    # Define the model.\n",
    "    model = keras.Model(inputs, outputs, name=\"3dcnn\")\n",
    "    return model\n",
    "\n",
    "\n",
    "# Build model.\n",
    "model = get_model(width=41, height=11, depth=11)\n",
    "model.summary()"
   ]
  },
  {
   "cell_type": "code",
   "execution_count": 65,
   "id": "f7f56774",
   "metadata": {},
   "outputs": [],
   "source": [
    "# Define data loaders.\n",
    "train_loader = tf.data.Dataset.from_tensor_slices((x_train, y_train))\n",
    "validation_loader = tf.data.Dataset.from_tensor_slices((x_val, y_val))\n",
    "\n",
    "batch_size = 2\n",
    "# Augment the on the fly during training.\n",
    "train_dataset = (\n",
    "    train_loader.shuffle(len(x_train))\n",
    "    .batch(batch_size)\n",
    "    .prefetch(2)\n",
    ")\n",
    "# Only rescale.\n",
    "validation_dataset = (\n",
    "    validation_loader.shuffle(len(x_val))\n",
    "    .batch(batch_size)\n",
    "    .prefetch(2)\n",
    ")"
   ]
  },
  {
   "cell_type": "code",
   "execution_count": 72,
   "id": "17480c13",
   "metadata": {},
   "outputs": [
    {
     "name": "stdout",
     "output_type": "stream",
     "text": [
      "Epoch 1/100\n",
      "35/35 - 3s - loss: 0.7028 - acc: 0.4714 - val_loss: 0.6974 - val_acc: 0.5000 - 3s/epoch - 91ms/step\n",
      "Epoch 2/100\n",
      "35/35 - 1s - loss: 0.6509 - acc: 0.6429 - val_loss: 0.6968 - val_acc: 0.5000 - 1s/epoch - 40ms/step\n",
      "Epoch 3/100\n",
      "35/35 - 1s - loss: 0.5933 - acc: 0.7857 - val_loss: 0.6872 - val_acc: 0.5000 - 1s/epoch - 40ms/step\n",
      "Epoch 4/100\n",
      "35/35 - 1s - loss: 0.5622 - acc: 0.7429 - val_loss: 0.6723 - val_acc: 0.5000 - 1s/epoch - 40ms/step\n",
      "Epoch 5/100\n",
      "35/35 - 1s - loss: 0.5414 - acc: 0.8000 - val_loss: 0.6664 - val_acc: 0.5000 - 1s/epoch - 40ms/step\n",
      "Epoch 6/100\n",
      "35/35 - 1s - loss: 0.5302 - acc: 0.7286 - val_loss: 0.6528 - val_acc: 0.5000 - 1s/epoch - 39ms/step\n",
      "Epoch 7/100\n",
      "35/35 - 1s - loss: 0.5296 - acc: 0.7714 - val_loss: 0.6500 - val_acc: 0.5000 - 1s/epoch - 40ms/step\n",
      "Epoch 8/100\n",
      "35/35 - 2s - loss: 0.4867 - acc: 0.8000 - val_loss: 0.6429 - val_acc: 0.5000 - 2s/epoch - 56ms/step\n",
      "Epoch 9/100\n",
      "35/35 - 1s - loss: 0.4164 - acc: 0.8000 - val_loss: 0.6071 - val_acc: 0.6333 - 1s/epoch - 38ms/step\n",
      "Epoch 10/100\n",
      "35/35 - 1s - loss: 0.4387 - acc: 0.8143 - val_loss: 0.5660 - val_acc: 0.7000 - 1s/epoch - 37ms/step\n",
      "Epoch 11/100\n",
      "35/35 - 1s - loss: 0.4606 - acc: 0.7714 - val_loss: 0.5216 - val_acc: 0.7333 - 1s/epoch - 38ms/step\n",
      "Epoch 12/100\n",
      "35/35 - 1s - loss: 0.4242 - acc: 0.8143 - val_loss: 0.4883 - val_acc: 0.8000 - 1s/epoch - 37ms/step\n",
      "Epoch 13/100\n",
      "35/35 - 1s - loss: 0.3458 - acc: 0.9143 - val_loss: 0.4462 - val_acc: 0.8000 - 1s/epoch - 37ms/step\n",
      "Epoch 14/100\n",
      "35/35 - 1s - loss: 0.2965 - acc: 0.9000 - val_loss: 0.3943 - val_acc: 0.8333 - 1s/epoch - 37ms/step\n",
      "Epoch 15/100\n",
      "35/35 - 1s - loss: 0.3500 - acc: 0.8429 - val_loss: 0.3739 - val_acc: 0.8000 - 1s/epoch - 38ms/step\n",
      "Epoch 16/100\n",
      "35/35 - 1s - loss: 0.3789 - acc: 0.8429 - val_loss: 0.3558 - val_acc: 0.8000 - 1s/epoch - 39ms/step\n",
      "Epoch 17/100\n",
      "35/35 - 1s - loss: 0.2872 - acc: 0.9286 - val_loss: 0.3357 - val_acc: 0.9000 - 1s/epoch - 39ms/step\n",
      "Epoch 18/100\n",
      "35/35 - 1s - loss: 0.2777 - acc: 0.9286 - val_loss: 0.3127 - val_acc: 0.9000 - 1s/epoch - 38ms/step\n",
      "Epoch 19/100\n",
      "35/35 - 1s - loss: 0.2639 - acc: 0.9000 - val_loss: 0.3020 - val_acc: 0.9333 - 1s/epoch - 38ms/step\n",
      "Epoch 20/100\n",
      "35/35 - 1s - loss: 0.3180 - acc: 0.9000 - val_loss: 0.3092 - val_acc: 0.9000 - 1s/epoch - 39ms/step\n",
      "Epoch 21/100\n",
      "35/35 - 1s - loss: 0.2598 - acc: 0.9286 - val_loss: 0.2933 - val_acc: 0.9333 - 1s/epoch - 39ms/step\n",
      "Epoch 22/100\n",
      "35/35 - 1s - loss: 0.1852 - acc: 0.9714 - val_loss: 0.2933 - val_acc: 0.9333 - 1s/epoch - 38ms/step\n",
      "Epoch 23/100\n",
      "35/35 - 1s - loss: 0.2352 - acc: 0.9571 - val_loss: 0.2723 - val_acc: 0.9333 - 1s/epoch - 39ms/step\n",
      "Epoch 24/100\n",
      "35/35 - 1s - loss: 0.1916 - acc: 0.9286 - val_loss: 0.2720 - val_acc: 0.8667 - 1s/epoch - 38ms/step\n",
      "Epoch 25/100\n",
      "35/35 - 1s - loss: 0.2598 - acc: 0.9429 - val_loss: 0.2630 - val_acc: 0.9000 - 1s/epoch - 38ms/step\n",
      "Epoch 26/100\n",
      "35/35 - 1s - loss: 0.2557 - acc: 0.9714 - val_loss: 0.2558 - val_acc: 0.9000 - 1s/epoch - 38ms/step\n",
      "Epoch 27/100\n",
      "35/35 - 1s - loss: 0.2227 - acc: 0.9714 - val_loss: 0.2520 - val_acc: 0.9333 - 1s/epoch - 38ms/step\n",
      "Epoch 28/100\n",
      "35/35 - 1s - loss: 0.1474 - acc: 0.9857 - val_loss: 0.2750 - val_acc: 0.9000 - 1s/epoch - 40ms/step\n",
      "Epoch 29/100\n",
      "35/35 - 1s - loss: 0.1819 - acc: 0.9429 - val_loss: 0.2492 - val_acc: 0.9333 - 1s/epoch - 39ms/step\n",
      "Epoch 30/100\n",
      "35/35 - 1s - loss: 0.1768 - acc: 0.9714 - val_loss: 0.2307 - val_acc: 0.9333 - 1s/epoch - 39ms/step\n",
      "Epoch 31/100\n",
      "35/35 - 1s - loss: 0.2903 - acc: 0.8571 - val_loss: 0.2448 - val_acc: 0.9000 - 1s/epoch - 38ms/step\n",
      "Epoch 32/100\n",
      "35/35 - 1s - loss: 0.1497 - acc: 1.0000 - val_loss: 0.2558 - val_acc: 0.9000 - 1s/epoch - 39ms/step\n",
      "Epoch 33/100\n",
      "35/35 - 1s - loss: 0.1686 - acc: 0.9571 - val_loss: 0.2477 - val_acc: 0.9000 - 1s/epoch - 40ms/step\n",
      "Epoch 34/100\n",
      "35/35 - 2s - loss: 0.1775 - acc: 0.9571 - val_loss: 0.2344 - val_acc: 0.9333 - 2s/epoch - 54ms/step\n",
      "Epoch 35/100\n",
      "35/35 - 2s - loss: 0.1870 - acc: 0.9286 - val_loss: 0.2598 - val_acc: 0.9333 - 2s/epoch - 45ms/step\n",
      "Epoch 36/100\n",
      "35/35 - 2s - loss: 0.1408 - acc: 0.9571 - val_loss: 0.2376 - val_acc: 0.9000 - 2s/epoch - 52ms/step\n",
      "Epoch 37/100\n",
      "35/35 - 2s - loss: 0.2546 - acc: 0.9286 - val_loss: 0.2973 - val_acc: 0.8000 - 2s/epoch - 48ms/step\n",
      "Epoch 38/100\n",
      "35/35 - 2s - loss: 0.1560 - acc: 0.9714 - val_loss: 0.2752 - val_acc: 0.8667 - 2s/epoch - 43ms/step\n",
      "Epoch 39/100\n",
      "35/35 - 2s - loss: 0.1793 - acc: 0.9571 - val_loss: 0.2210 - val_acc: 0.9667 - 2s/epoch - 43ms/step\n",
      "Epoch 40/100\n",
      "35/35 - 2s - loss: 0.1135 - acc: 1.0000 - val_loss: 0.2289 - val_acc: 0.9333 - 2s/epoch - 44ms/step\n",
      "Epoch 41/100\n",
      "35/35 - 1s - loss: 0.1795 - acc: 0.9857 - val_loss: 0.2191 - val_acc: 0.9000 - 1s/epoch - 43ms/step\n",
      "Epoch 42/100\n",
      "35/35 - 1s - loss: 0.1589 - acc: 0.9714 - val_loss: 0.2212 - val_acc: 0.9000 - 1s/epoch - 43ms/step\n",
      "Epoch 43/100\n",
      "35/35 - 1s - loss: 0.0995 - acc: 1.0000 - val_loss: 0.2246 - val_acc: 0.9000 - 1s/epoch - 43ms/step\n",
      "Epoch 44/100\n",
      "35/35 - 2s - loss: 0.1020 - acc: 1.0000 - val_loss: 0.2583 - val_acc: 0.9000 - 2s/epoch - 43ms/step\n",
      "Epoch 45/100\n",
      "35/35 - 1s - loss: 0.1606 - acc: 0.9429 - val_loss: 0.2416 - val_acc: 0.9000 - 1s/epoch - 42ms/step\n",
      "Epoch 46/100\n",
      "35/35 - 1s - loss: 0.1415 - acc: 1.0000 - val_loss: 0.2544 - val_acc: 0.8667 - 1s/epoch - 42ms/step\n",
      "Epoch 47/100\n",
      "35/35 - 2s - loss: 0.1357 - acc: 0.9714 - val_loss: 0.2320 - val_acc: 0.8333 - 2s/epoch - 43ms/step\n",
      "Epoch 48/100\n",
      "35/35 - 1s - loss: 0.1342 - acc: 0.9857 - val_loss: 0.2168 - val_acc: 0.9333 - 1s/epoch - 42ms/step\n",
      "Epoch 49/100\n",
      "35/35 - 1s - loss: 0.0934 - acc: 1.0000 - val_loss: 0.2334 - val_acc: 0.9000 - 1s/epoch - 42ms/step\n",
      "Epoch 50/100\n",
      "35/35 - 2s - loss: 0.0515 - acc: 1.0000 - val_loss: 0.2296 - val_acc: 0.9000 - 2s/epoch - 43ms/step\n",
      "Epoch 51/100\n",
      "35/35 - 1s - loss: 0.1052 - acc: 0.9857 - val_loss: 0.2235 - val_acc: 0.9333 - 1s/epoch - 43ms/step\n",
      "Epoch 52/100\n",
      "35/35 - 1s - loss: 0.0597 - acc: 1.0000 - val_loss: 0.2263 - val_acc: 0.9667 - 1s/epoch - 42ms/step\n",
      "Epoch 53/100\n",
      "35/35 - 2s - loss: 0.0666 - acc: 1.0000 - val_loss: 0.2184 - val_acc: 0.8667 - 2s/epoch - 44ms/step\n",
      "Epoch 54/100\n",
      "35/35 - 2s - loss: 0.1184 - acc: 0.9857 - val_loss: 0.2280 - val_acc: 0.9000 - 2s/epoch - 48ms/step\n",
      "Epoch 55/100\n",
      "35/35 - 2s - loss: 0.0969 - acc: 0.9857 - val_loss: 0.2285 - val_acc: 0.9333 - 2s/epoch - 43ms/step\n",
      "Epoch 56/100\n",
      "35/35 - 1s - loss: 0.1430 - acc: 0.9571 - val_loss: 0.2527 - val_acc: 0.9333 - 1s/epoch - 42ms/step\n",
      "Epoch 57/100\n",
      "35/35 - 2s - loss: 0.0793 - acc: 0.9571 - val_loss: 0.2266 - val_acc: 0.9667 - 2s/epoch - 43ms/step\n",
      "Epoch 58/100\n",
      "35/35 - 1s - loss: 0.0831 - acc: 0.9714 - val_loss: 0.2241 - val_acc: 0.9000 - 1s/epoch - 42ms/step\n",
      "Epoch 59/100\n",
      "35/35 - 1s - loss: 0.0996 - acc: 0.9857 - val_loss: 0.2164 - val_acc: 0.9000 - 1s/epoch - 42ms/step\n",
      "Epoch 60/100\n",
      "35/35 - 1s - loss: 0.0690 - acc: 1.0000 - val_loss: 0.1962 - val_acc: 0.9333 - 1s/epoch - 42ms/step\n",
      "Epoch 61/100\n",
      "35/35 - 1s - loss: 0.0991 - acc: 0.9857 - val_loss: 0.2235 - val_acc: 0.9333 - 1s/epoch - 42ms/step\n",
      "Epoch 62/100\n",
      "35/35 - 2s - loss: 0.0770 - acc: 0.9857 - val_loss: 0.2023 - val_acc: 0.9667 - 2s/epoch - 43ms/step\n",
      "Epoch 63/100\n",
      "35/35 - 1s - loss: 0.0619 - acc: 1.0000 - val_loss: 0.2185 - val_acc: 0.9333 - 1s/epoch - 42ms/step\n",
      "Epoch 64/100\n",
      "35/35 - 1s - loss: 0.0574 - acc: 0.9857 - val_loss: 0.2215 - val_acc: 0.9000 - 1s/epoch - 43ms/step\n",
      "Epoch 65/100\n",
      "35/35 - 2s - loss: 0.0928 - acc: 1.0000 - val_loss: 0.2243 - val_acc: 0.9333 - 2s/epoch - 43ms/step\n",
      "Epoch 66/100\n",
      "35/35 - 1s - loss: 0.1080 - acc: 0.9857 - val_loss: 0.2105 - val_acc: 0.9000 - 1s/epoch - 43ms/step\n",
      "Epoch 67/100\n",
      "35/35 - 1s - loss: 0.0580 - acc: 1.0000 - val_loss: 0.2354 - val_acc: 0.8333 - 1s/epoch - 42ms/step\n",
      "Epoch 68/100\n",
      "35/35 - 1s - loss: 0.0531 - acc: 1.0000 - val_loss: 0.2674 - val_acc: 0.8333 - 1s/epoch - 42ms/step\n",
      "Epoch 69/100\n",
      "35/35 - 1s - loss: 0.0646 - acc: 0.9857 - val_loss: 0.2543 - val_acc: 0.8667 - 1s/epoch - 42ms/step\n",
      "Epoch 70/100\n",
      "35/35 - 1s - loss: 0.0452 - acc: 1.0000 - val_loss: 0.2493 - val_acc: 0.8000 - 1s/epoch - 42ms/step\n",
      "Epoch 71/100\n",
      "35/35 - 1s - loss: 0.0436 - acc: 1.0000 - val_loss: 0.2470 - val_acc: 0.8333 - 1s/epoch - 42ms/step\n",
      "Epoch 72/100\n",
      "35/35 - 1s - loss: 0.0901 - acc: 0.9714 - val_loss: 0.2364 - val_acc: 0.8667 - 1s/epoch - 42ms/step\n",
      "Epoch 73/100\n",
      "35/35 - 1s - loss: 0.0680 - acc: 0.9714 - val_loss: 0.2351 - val_acc: 0.8333 - 1s/epoch - 43ms/step\n"
     ]
    },
    {
     "name": "stdout",
     "output_type": "stream",
     "text": [
      "Epoch 74/100\n",
      "35/35 - 1s - loss: 0.0516 - acc: 0.9857 - val_loss: 0.2252 - val_acc: 0.9000 - 1s/epoch - 42ms/step\n",
      "Epoch 75/100\n",
      "35/35 - 1s - loss: 0.0474 - acc: 1.0000 - val_loss: 0.2275 - val_acc: 0.8333 - 1s/epoch - 42ms/step\n",
      "Epoch 76/100\n",
      "35/35 - 1s - loss: 0.0462 - acc: 0.9857 - val_loss: 0.2244 - val_acc: 0.8333 - 1s/epoch - 42ms/step\n",
      "Epoch 77/100\n",
      "35/35 - 1s - loss: 0.0705 - acc: 1.0000 - val_loss: 0.2111 - val_acc: 0.9333 - 1s/epoch - 42ms/step\n",
      "Epoch 78/100\n",
      "35/35 - 1s - loss: 0.0449 - acc: 1.0000 - val_loss: 0.2051 - val_acc: 0.9667 - 1s/epoch - 43ms/step\n",
      "Epoch 79/100\n",
      "35/35 - 1s - loss: 0.0519 - acc: 1.0000 - val_loss: 0.1982 - val_acc: 0.9000 - 1s/epoch - 42ms/step\n",
      "Epoch 80/100\n",
      "35/35 - 1s - loss: 0.0536 - acc: 1.0000 - val_loss: 0.2313 - val_acc: 0.8667 - 1s/epoch - 42ms/step\n",
      "Epoch 81/100\n",
      "35/35 - 2s - loss: 0.0422 - acc: 0.9857 - val_loss: 0.2208 - val_acc: 0.8667 - 2s/epoch - 45ms/step\n",
      "Epoch 82/100\n",
      "35/35 - 2s - loss: 0.0673 - acc: 1.0000 - val_loss: 0.2938 - val_acc: 0.8333 - 2s/epoch - 45ms/step\n",
      "Epoch 83/100\n",
      "35/35 - 1s - loss: 0.0482 - acc: 1.0000 - val_loss: 0.2598 - val_acc: 0.9000 - 1s/epoch - 42ms/step\n",
      "Epoch 84/100\n",
      "35/35 - 1s - loss: 0.0149 - acc: 1.0000 - val_loss: 0.2340 - val_acc: 0.8667 - 1s/epoch - 43ms/step\n",
      "Epoch 85/100\n",
      "35/35 - 1s - loss: 0.0154 - acc: 1.0000 - val_loss: 0.2334 - val_acc: 0.8667 - 1s/epoch - 42ms/step\n",
      "Epoch 86/100\n",
      "35/35 - 1s - loss: 0.0320 - acc: 1.0000 - val_loss: 0.2449 - val_acc: 0.8667 - 1s/epoch - 42ms/step\n",
      "Epoch 87/100\n",
      "35/35 - 1s - loss: 0.0361 - acc: 1.0000 - val_loss: 0.2414 - val_acc: 0.8333 - 1s/epoch - 42ms/step\n",
      "Epoch 88/100\n",
      "35/35 - 1s - loss: 0.0573 - acc: 1.0000 - val_loss: 0.2265 - val_acc: 0.8667 - 1s/epoch - 42ms/step\n",
      "Epoch 89/100\n",
      "35/35 - 1s - loss: 0.0287 - acc: 1.0000 - val_loss: 0.2204 - val_acc: 0.9000 - 1s/epoch - 42ms/step\n",
      "Epoch 90/100\n",
      "35/35 - 1s - loss: 0.0285 - acc: 1.0000 - val_loss: 0.2244 - val_acc: 0.9000 - 1s/epoch - 42ms/step\n",
      "Epoch 91/100\n",
      "35/35 - 1s - loss: 0.0308 - acc: 1.0000 - val_loss: 0.2311 - val_acc: 0.9333 - 1s/epoch - 42ms/step\n",
      "Epoch 92/100\n",
      "35/35 - 1s - loss: 0.0147 - acc: 1.0000 - val_loss: 0.2382 - val_acc: 0.8000 - 1s/epoch - 42ms/step\n",
      "Epoch 93/100\n",
      "35/35 - 1s - loss: 0.0322 - acc: 1.0000 - val_loss: 0.2324 - val_acc: 0.9333 - 1s/epoch - 42ms/step\n",
      "Epoch 94/100\n",
      "35/35 - 1s - loss: 0.0166 - acc: 1.0000 - val_loss: 0.2348 - val_acc: 0.9000 - 1s/epoch - 42ms/step\n",
      "Epoch 95/100\n",
      "35/35 - 1s - loss: 0.0158 - acc: 1.0000 - val_loss: 0.2289 - val_acc: 0.8667 - 1s/epoch - 42ms/step\n",
      "Epoch 96/100\n",
      "35/35 - 1s - loss: 0.0498 - acc: 1.0000 - val_loss: 0.2419 - val_acc: 0.8667 - 1s/epoch - 42ms/step\n",
      "Epoch 97/100\n",
      "35/35 - 1s - loss: 0.0432 - acc: 0.9857 - val_loss: 0.2299 - val_acc: 0.9000 - 1s/epoch - 43ms/step\n",
      "Epoch 98/100\n",
      "35/35 - 1s - loss: 0.0107 - acc: 1.0000 - val_loss: 0.2244 - val_acc: 0.9000 - 1s/epoch - 42ms/step\n",
      "Epoch 99/100\n",
      "35/35 - 1s - loss: 0.0293 - acc: 1.0000 - val_loss: 0.2243 - val_acc: 0.8667 - 1s/epoch - 42ms/step\n",
      "Epoch 100/100\n",
      "35/35 - 1s - loss: 0.0260 - acc: 1.0000 - val_loss: 0.2299 - val_acc: 0.9000 - 1s/epoch - 42ms/step\n"
     ]
    },
    {
     "data": {
      "text/plain": [
       "<keras.callbacks.History at 0x1d4e3db69d0>"
      ]
     },
     "execution_count": 72,
     "metadata": {},
     "output_type": "execute_result"
    }
   ],
   "source": [
    "# Compile model.\n",
    "initial_learning_rate = 0.0001\n",
    "lr_schedule = keras.optimizers.schedules.ExponentialDecay(\n",
    "    initial_learning_rate, decay_steps=100000, decay_rate=0.96, staircase=True\n",
    ")\n",
    "model.compile(\n",
    "    loss=\"binary_crossentropy\",\n",
    "    optimizer=keras.optimizers.Adam(learning_rate=lr_schedule),\n",
    "    metrics=[\"acc\"],\n",
    ")\n",
    "\n",
    "# Define callbacks.\n",
    "checkpoint_cb = keras.callbacks.ModelCheckpoint(\n",
    "    \"3d_image_classification.h5\", save_best_only=True\n",
    ")\n",
    "early_stopping_cb = keras.callbacks.EarlyStopping(monitor=\"val_acc\", patience=15)\n",
    "\n",
    "# Train the model, doing validation at the end of each epoch\n",
    "epochs = 100\n",
    "model.fit(\n",
    "    train_dataset,\n",
    "    validation_data=validation_dataset,\n",
    "    epochs=epochs,\n",
    "    shuffle=True,\n",
    "    verbose=2,\n",
    ")"
   ]
  },
  {
   "cell_type": "code",
   "execution_count": 75,
   "id": "71e7d1f0",
   "metadata": {},
   "outputs": [],
   "source": []
  },
  {
   "cell_type": "code",
   "execution_count": null,
   "id": "75cf25c0",
   "metadata": {},
   "outputs": [],
   "source": []
  },
  {
   "cell_type": "code",
   "execution_count": 73,
   "id": "e7077062",
   "metadata": {},
   "outputs": [
    {
     "data": {
      "image/png": "[encoded data removed]",
      "text/plain": [
       "<Figure size 2000x300 with 2 Axes>"
      ]
     },
     "metadata": {},
     "output_type": "display_data"
    }
   ],
   "source": [
    "fig, ax = plt.subplots(1, 2, figsize=(20, 3))\n",
    "ax = ax.ravel()\n",
    "\n",
    "for i, metric in enumerate([\"acc\", \"loss\"]):\n",
    "    ax[i].plot(model.history.history[metric])\n",
    "    ax[i].plot(model.history.history[\"val_\" + metric])\n",
    "    ax[i].set_title(\"Model {}\".format(metric))\n",
    "    ax[i].set_xlabel(\"epochs\")\n",
    "    ax[i].set_ylabel(metric)\n",
    "    ax[i].legend([\"train\", \"val\"])"
   ]
  },
  {
   "cell_type": "code",
   "execution_count": 135,
   "id": "1c755d9a",
   "metadata": {},
   "outputs": [],
   "source": [
    "filename_chi= \"actual_chi_data.feather\"\n",
    "df_chi = feather.read_dataframe(filename_chi)\n",
    "df_chi = df_chi.drop(columns = ['t','xvals'],axis=1)\n",
    "chi_imgs = np.asarray(df_chi)"
   ]
  },
  {
   "cell_type": "code",
   "execution_count": 136,
   "id": "b63e6c79",
   "metadata": {},
   "outputs": [],
   "source": [
    "chi_imgs = chi_imgs.reshape(1,41,11,11,1)"
   ]
  },
  {
   "cell_type": "code",
   "execution_count": 142,
   "id": "312ac620",
   "metadata": {},
   "outputs": [
    {
     "data": {
      "text/html": [
       "<div>\n",
       "<style scoped>\n",
       "    .dataframe tbody tr th:only-of-type {\n",
       "        vertical-align: middle;\n",
       "    }\n",
       "\n",
       "    .dataframe tbody tr th {\n",
       "        vertical-align: top;\n",
       "    }\n",
       "\n",
       "    .dataframe thead th {\n",
       "        text-align: right;\n",
       "    }\n",
       "</style>\n",
       "<table border=\"1\" class=\"dataframe\">\n",
       "  <thead>\n",
       "    <tr style=\"text-align: right;\">\n",
       "      <th></th>\n",
       "      <th>0</th>\n",
       "      <th>0.1</th>\n",
       "      <th>0.2</th>\n",
       "      <th>0.3</th>\n",
       "      <th>0.4</th>\n",
       "      <th>0.5</th>\n",
       "      <th>0.6</th>\n",
       "      <th>0.7</th>\n",
       "      <th>0.8</th>\n",
       "      <th>0.9</th>\n",
       "      <th>1</th>\n",
       "    </tr>\n",
       "  </thead>\n",
       "  <tbody>\n",
       "    <tr>\n",
       "      <th>0</th>\n",
       "      <td>0.0</td>\n",
       "      <td>0.0</td>\n",
       "      <td>0.0</td>\n",
       "      <td>1.0</td>\n",
       "      <td>0.0</td>\n",
       "      <td>0.0</td>\n",
       "      <td>0.0</td>\n",
       "      <td>0.0</td>\n",
       "      <td>0.0</td>\n",
       "      <td>0.0</td>\n",
       "      <td>0.0</td>\n",
       "    </tr>\n",
       "    <tr>\n",
       "      <th>1</th>\n",
       "      <td>0.0</td>\n",
       "      <td>0.0</td>\n",
       "      <td>0.0</td>\n",
       "      <td>0.0</td>\n",
       "      <td>1.0</td>\n",
       "      <td>1.0</td>\n",
       "      <td>3.0</td>\n",
       "      <td>0.0</td>\n",
       "      <td>1.0</td>\n",
       "      <td>1.0</td>\n",
       "      <td>0.0</td>\n",
       "    </tr>\n",
       "    <tr>\n",
       "      <th>2</th>\n",
       "      <td>2.0</td>\n",
       "      <td>0.0</td>\n",
       "      <td>1.0</td>\n",
       "      <td>0.0</td>\n",
       "      <td>0.0</td>\n",
       "      <td>0.0</td>\n",
       "      <td>0.0</td>\n",
       "      <td>1.0</td>\n",
       "      <td>0.0</td>\n",
       "      <td>0.0</td>\n",
       "      <td>0.0</td>\n",
       "    </tr>\n",
       "    <tr>\n",
       "      <th>3</th>\n",
       "      <td>0.0</td>\n",
       "      <td>0.0</td>\n",
       "      <td>0.0</td>\n",
       "      <td>0.0</td>\n",
       "      <td>0.0</td>\n",
       "      <td>1.0</td>\n",
       "      <td>2.0</td>\n",
       "      <td>0.0</td>\n",
       "      <td>0.0</td>\n",
       "      <td>0.0</td>\n",
       "      <td>1.0</td>\n",
       "    </tr>\n",
       "    <tr>\n",
       "      <th>4</th>\n",
       "      <td>2.0</td>\n",
       "      <td>0.0</td>\n",
       "      <td>1.0</td>\n",
       "      <td>0.0</td>\n",
       "      <td>1.0</td>\n",
       "      <td>1.0</td>\n",
       "      <td>0.0</td>\n",
       "      <td>1.0</td>\n",
       "      <td>0.0</td>\n",
       "      <td>0.0</td>\n",
       "      <td>0.0</td>\n",
       "    </tr>\n",
       "    <tr>\n",
       "      <th>...</th>\n",
       "      <td>...</td>\n",
       "      <td>...</td>\n",
       "      <td>...</td>\n",
       "      <td>...</td>\n",
       "      <td>...</td>\n",
       "      <td>...</td>\n",
       "      <td>...</td>\n",
       "      <td>...</td>\n",
       "      <td>...</td>\n",
       "      <td>...</td>\n",
       "      <td>...</td>\n",
       "    </tr>\n",
       "    <tr>\n",
       "      <th>446</th>\n",
       "      <td>0.0</td>\n",
       "      <td>0.0</td>\n",
       "      <td>0.0</td>\n",
       "      <td>0.0</td>\n",
       "      <td>0.0</td>\n",
       "      <td>0.0</td>\n",
       "      <td>0.0</td>\n",
       "      <td>0.0</td>\n",
       "      <td>0.0</td>\n",
       "      <td>0.0</td>\n",
       "      <td>0.0</td>\n",
       "    </tr>\n",
       "    <tr>\n",
       "      <th>447</th>\n",
       "      <td>0.0</td>\n",
       "      <td>0.0</td>\n",
       "      <td>0.0</td>\n",
       "      <td>0.0</td>\n",
       "      <td>0.0</td>\n",
       "      <td>0.0</td>\n",
       "      <td>0.0</td>\n",
       "      <td>0.0</td>\n",
       "      <td>0.0</td>\n",
       "      <td>0.0</td>\n",
       "      <td>0.0</td>\n",
       "    </tr>\n",
       "    <tr>\n",
       "      <th>448</th>\n",
       "      <td>0.0</td>\n",
       "      <td>0.0</td>\n",
       "      <td>0.0</td>\n",
       "      <td>0.0</td>\n",
       "      <td>0.0</td>\n",
       "      <td>0.0</td>\n",
       "      <td>0.0</td>\n",
       "      <td>0.0</td>\n",
       "      <td>0.0</td>\n",
       "      <td>0.0</td>\n",
       "      <td>0.0</td>\n",
       "    </tr>\n",
       "    <tr>\n",
       "      <th>449</th>\n",
       "      <td>0.0</td>\n",
       "      <td>0.0</td>\n",
       "      <td>0.0</td>\n",
       "      <td>0.0</td>\n",
       "      <td>0.0</td>\n",
       "      <td>0.0</td>\n",
       "      <td>0.0</td>\n",
       "      <td>0.0</td>\n",
       "      <td>0.0</td>\n",
       "      <td>0.0</td>\n",
       "      <td>0.0</td>\n",
       "    </tr>\n",
       "    <tr>\n",
       "      <th>450</th>\n",
       "      <td>0.0</td>\n",
       "      <td>0.0</td>\n",
       "      <td>0.0</td>\n",
       "      <td>0.0</td>\n",
       "      <td>0.0</td>\n",
       "      <td>0.0</td>\n",
       "      <td>0.0</td>\n",
       "      <td>0.0</td>\n",
       "      <td>0.0</td>\n",
       "      <td>0.0</td>\n",
       "      <td>0.0</td>\n",
       "    </tr>\n",
       "  </tbody>\n",
       "</table>\n",
       "<p>451 rows × 11 columns</p>\n",
       "</div>"
      ],
      "text/plain": [
       "       0  0.1  0.2  0.3  0.4  0.5  0.6  0.7  0.8  0.9    1\n",
       "0    0.0  0.0  0.0  1.0  0.0  0.0  0.0  0.0  0.0  0.0  0.0\n",
       "1    0.0  0.0  0.0  0.0  1.0  1.0  3.0  0.0  1.0  1.0  0.0\n",
       "2    2.0  0.0  1.0  0.0  0.0  0.0  0.0  1.0  0.0  0.0  0.0\n",
       "3    0.0  0.0  0.0  0.0  0.0  1.0  2.0  0.0  0.0  0.0  1.0\n",
       "4    2.0  0.0  1.0  0.0  1.0  1.0  0.0  1.0  0.0  0.0  0.0\n",
       "..   ...  ...  ...  ...  ...  ...  ...  ...  ...  ...  ...\n",
       "446  0.0  0.0  0.0  0.0  0.0  0.0  0.0  0.0  0.0  0.0  0.0\n",
       "447  0.0  0.0  0.0  0.0  0.0  0.0  0.0  0.0  0.0  0.0  0.0\n",
       "448  0.0  0.0  0.0  0.0  0.0  0.0  0.0  0.0  0.0  0.0  0.0\n",
       "449  0.0  0.0  0.0  0.0  0.0  0.0  0.0  0.0  0.0  0.0  0.0\n",
       "450  0.0  0.0  0.0  0.0  0.0  0.0  0.0  0.0  0.0  0.0  0.0\n",
       "\n",
       "[451 rows x 11 columns]"
      ]
     },
     "execution_count": 142,
     "metadata": {},
     "output_type": "execute_result"
    }
   ],
   "source": [
    "chi_imgs.shape\n",
    "chi_imgs.var()\n",
    "df_chi"
   ]
  },
  {
   "cell_type": "code",
   "execution_count": 138,
   "id": "9ce9b7d1",
   "metadata": {},
   "outputs": [
    {
     "name": "stdout",
     "output_type": "stream",
     "text": [
      "1/1 [==============================] - 0s 20ms/step\n"
     ]
    }
   ],
   "source": [
    "classes = model.predict(chi_imgs)"
   ]
  },
  {
   "cell_type": "code",
   "execution_count": 139,
   "id": "32a1133c",
   "metadata": {},
   "outputs": [
    {
     "name": "stdout",
     "output_type": "stream",
     "text": [
      "[[0.2059121]]\n"
     ]
    }
   ],
   "source": [
    "print(classes)"
   ]
  },
  {
   "cell_type": "code",
   "execution_count": 133,
   "id": "36f65584",
   "metadata": {},
   "outputs": [
    {
     "data": {
      "text/html": [
       "<div>\n",
       "<style scoped>\n",
       "    .dataframe tbody tr th:only-of-type {\n",
       "        vertical-align: middle;\n",
       "    }\n",
       "\n",
       "    .dataframe tbody tr th {\n",
       "        vertical-align: top;\n",
       "    }\n",
       "\n",
       "    .dataframe thead th {\n",
       "        text-align: right;\n",
       "    }\n",
       "</style>\n",
       "<table border=\"1\" class=\"dataframe\">\n",
       "  <thead>\n",
       "    <tr style=\"text-align: right;\">\n",
       "      <th></th>\n",
       "      <th>0</th>\n",
       "      <th>0.1</th>\n",
       "      <th>0.2</th>\n",
       "      <th>0.3</th>\n",
       "      <th>0.4</th>\n",
       "      <th>0.5</th>\n",
       "      <th>0.6</th>\n",
       "      <th>0.7</th>\n",
       "      <th>0.8</th>\n",
       "      <th>0.9</th>\n",
       "      <th>1</th>\n",
       "    </tr>\n",
       "  </thead>\n",
       "  <tbody>\n",
       "    <tr>\n",
       "      <th>0</th>\n",
       "      <td>0.0</td>\n",
       "      <td>0.0</td>\n",
       "      <td>0.0</td>\n",
       "      <td>0.0</td>\n",
       "      <td>0.0</td>\n",
       "      <td>0.0</td>\n",
       "      <td>0.0</td>\n",
       "      <td>0.0</td>\n",
       "      <td>0.0</td>\n",
       "      <td>0.0</td>\n",
       "      <td>0.0</td>\n",
       "    </tr>\n",
       "    <tr>\n",
       "      <th>1</th>\n",
       "      <td>0.0</td>\n",
       "      <td>0.0</td>\n",
       "      <td>0.0</td>\n",
       "      <td>0.0</td>\n",
       "      <td>0.0</td>\n",
       "      <td>0.0</td>\n",
       "      <td>0.0</td>\n",
       "      <td>0.0</td>\n",
       "      <td>0.0</td>\n",
       "      <td>0.0</td>\n",
       "      <td>0.0</td>\n",
       "    </tr>\n",
       "    <tr>\n",
       "      <th>2</th>\n",
       "      <td>0.0</td>\n",
       "      <td>0.0</td>\n",
       "      <td>0.0</td>\n",
       "      <td>0.0</td>\n",
       "      <td>0.0</td>\n",
       "      <td>0.0</td>\n",
       "      <td>0.0</td>\n",
       "      <td>0.0</td>\n",
       "      <td>0.0</td>\n",
       "      <td>0.0</td>\n",
       "      <td>0.0</td>\n",
       "    </tr>\n",
       "    <tr>\n",
       "      <th>3</th>\n",
       "      <td>0.0</td>\n",
       "      <td>0.0</td>\n",
       "      <td>0.0</td>\n",
       "      <td>0.0</td>\n",
       "      <td>0.0</td>\n",
       "      <td>0.0</td>\n",
       "      <td>0.0</td>\n",
       "      <td>0.0</td>\n",
       "      <td>0.0</td>\n",
       "      <td>0.0</td>\n",
       "      <td>0.0</td>\n",
       "    </tr>\n",
       "    <tr>\n",
       "      <th>4</th>\n",
       "      <td>0.0</td>\n",
       "      <td>0.0</td>\n",
       "      <td>0.0</td>\n",
       "      <td>0.0</td>\n",
       "      <td>0.0</td>\n",
       "      <td>0.0</td>\n",
       "      <td>0.0</td>\n",
       "      <td>0.0</td>\n",
       "      <td>0.0</td>\n",
       "      <td>0.0</td>\n",
       "      <td>0.0</td>\n",
       "    </tr>\n",
       "    <tr>\n",
       "      <th>...</th>\n",
       "      <td>...</td>\n",
       "      <td>...</td>\n",
       "      <td>...</td>\n",
       "      <td>...</td>\n",
       "      <td>...</td>\n",
       "      <td>...</td>\n",
       "      <td>...</td>\n",
       "      <td>...</td>\n",
       "      <td>...</td>\n",
       "      <td>...</td>\n",
       "      <td>...</td>\n",
       "    </tr>\n",
       "    <tr>\n",
       "      <th>446</th>\n",
       "      <td>0.0</td>\n",
       "      <td>0.0</td>\n",
       "      <td>0.0</td>\n",
       "      <td>0.0</td>\n",
       "      <td>0.0</td>\n",
       "      <td>0.0</td>\n",
       "      <td>0.0</td>\n",
       "      <td>0.0</td>\n",
       "      <td>0.0</td>\n",
       "      <td>0.0</td>\n",
       "      <td>0.0</td>\n",
       "    </tr>\n",
       "    <tr>\n",
       "      <th>447</th>\n",
       "      <td>0.0</td>\n",
       "      <td>0.0</td>\n",
       "      <td>0.0</td>\n",
       "      <td>0.0</td>\n",
       "      <td>0.0</td>\n",
       "      <td>0.0</td>\n",
       "      <td>0.0</td>\n",
       "      <td>0.0</td>\n",
       "      <td>0.0</td>\n",
       "      <td>0.0</td>\n",
       "      <td>0.0</td>\n",
       "    </tr>\n",
       "    <tr>\n",
       "      <th>448</th>\n",
       "      <td>0.0</td>\n",
       "      <td>0.0</td>\n",
       "      <td>0.0</td>\n",
       "      <td>0.0</td>\n",
       "      <td>0.0</td>\n",
       "      <td>0.0</td>\n",
       "      <td>0.0</td>\n",
       "      <td>0.0</td>\n",
       "      <td>0.0</td>\n",
       "      <td>0.0</td>\n",
       "      <td>0.0</td>\n",
       "    </tr>\n",
       "    <tr>\n",
       "      <th>449</th>\n",
       "      <td>0.0</td>\n",
       "      <td>0.0</td>\n",
       "      <td>0.0</td>\n",
       "      <td>0.0</td>\n",
       "      <td>0.0</td>\n",
       "      <td>0.0</td>\n",
       "      <td>0.0</td>\n",
       "      <td>0.0</td>\n",
       "      <td>0.0</td>\n",
       "      <td>0.0</td>\n",
       "      <td>0.0</td>\n",
       "    </tr>\n",
       "    <tr>\n",
       "      <th>450</th>\n",
       "      <td>0.0</td>\n",
       "      <td>0.0</td>\n",
       "      <td>0.0</td>\n",
       "      <td>0.0</td>\n",
       "      <td>0.0</td>\n",
       "      <td>0.0</td>\n",
       "      <td>0.0</td>\n",
       "      <td>0.0</td>\n",
       "      <td>0.0</td>\n",
       "      <td>0.0</td>\n",
       "      <td>0.0</td>\n",
       "    </tr>\n",
       "  </tbody>\n",
       "</table>\n",
       "<p>451 rows × 11 columns</p>\n",
       "</div>"
      ],
      "text/plain": [
       "       0  0.1  0.2  0.3  0.4  0.5  0.6  0.7  0.8  0.9    1\n",
       "0    0.0  0.0  0.0  0.0  0.0  0.0  0.0  0.0  0.0  0.0  0.0\n",
       "1    0.0  0.0  0.0  0.0  0.0  0.0  0.0  0.0  0.0  0.0  0.0\n",
       "2    0.0  0.0  0.0  0.0  0.0  0.0  0.0  0.0  0.0  0.0  0.0\n",
       "3    0.0  0.0  0.0  0.0  0.0  0.0  0.0  0.0  0.0  0.0  0.0\n",
       "4    0.0  0.0  0.0  0.0  0.0  0.0  0.0  0.0  0.0  0.0  0.0\n",
       "..   ...  ...  ...  ...  ...  ...  ...  ...  ...  ...  ...\n",
       "446  0.0  0.0  0.0  0.0  0.0  0.0  0.0  0.0  0.0  0.0  0.0\n",
       "447  0.0  0.0  0.0  0.0  0.0  0.0  0.0  0.0  0.0  0.0  0.0\n",
       "448  0.0  0.0  0.0  0.0  0.0  0.0  0.0  0.0  0.0  0.0  0.0\n",
       "449  0.0  0.0  0.0  0.0  0.0  0.0  0.0  0.0  0.0  0.0  0.0\n",
       "450  0.0  0.0  0.0  0.0  0.0  0.0  0.0  0.0  0.0  0.0  0.0\n",
       "\n",
       "[451 rows x 11 columns]"
      ]
     },
     "execution_count": 133,
     "metadata": {},
     "output_type": "execute_result"
    }
   ],
   "source": [
    "df_chi"
   ]
  },
  {
   "cell_type": "code",
   "execution_count": 124,
   "id": "02aa8027",
   "metadata": {},
   "outputs": [],
   "source": [
    "test = hawkes_dat[16]"
   ]
  },
  {
   "cell_type": "code",
   "execution_count": 125,
   "id": "8507d391",
   "metadata": {},
   "outputs": [
    {
     "name": "stdout",
     "output_type": "stream",
     "text": [
      "1/1 [==============================] - 0s 21ms/step\n"
     ]
    },
    {
     "data": {
      "text/plain": [
       "array([[0.9998071]], dtype=float32)"
      ]
     },
     "execution_count": 125,
     "metadata": {},
     "output_type": "execute_result"
    }
   ],
   "source": [
    "test = test.reshape(1,41,11,11,1)\n",
    "\n",
    "model.predict(test)\n"
   ]
  },
  {
   "cell_type": "code",
   "execution_count": 101,
   "id": "2b8225bb",
   "metadata": {},
   "outputs": [],
   "source": [
    "sim_vals = [None]*num_t"
   ]
  },
  {
   "cell_type": "code",
   "execution_count": 102,
   "id": "1568e477",
   "metadata": {},
   "outputs": [],
   "source": [
    "for count, group in enumerate(test):\n",
    "    sim_vals[count] = group"
   ]
  },
  {
   "cell_type": "code",
   "execution_count": 12,
   "id": "a985dacc",
   "metadata": {},
   "outputs": [
    {
     "name": "stdout",
     "output_type": "stream",
     "text": [
      "(123420, 1)\n"
     ]
    }
   ],
   "source": [
    "X = sim_imgs / sim_imgs.max()\n",
    "y = []\n",
    "for i in range(n_classes * n_examples *  num_t*num_x * num_y): \n",
    "    y.append(int(i / (n_examples  *  num_t*num_x * num_y)))\n",
    "y = np.asarray(y)\n",
    "y = y.reshape([n_classes * n_examples *  num_t*num_x * num_y, 1])\n",
    "print(y.shape)"
   ]
  },
  {
   "cell_type": "code",
   "execution_count": 15,
   "id": "895f7496",
   "metadata": {},
   "outputs": [
    {
     "data": {
      "text/plain": [
       "0.5"
      ]
     },
     "execution_count": 15,
     "metadata": {},
     "output_type": "execute_result"
    }
   ],
   "source": [
    "y = np.asarray(y)\n",
    "y.mean()"
   ]
  },
  {
   "cell_type": "code",
   "execution_count": 16,
   "id": "56d4d66f",
   "metadata": {},
   "outputs": [
    {
     "name": "stdout",
     "output_type": "stream",
     "text": [
      "(2, 7, 51, 11, 11)\n",
      "(2, 3, 51, 11, 11)\n"
     ]
    }
   ],
   "source": [
    "import numpy.random as rng\n",
    "n_test = 3\n",
    "\n",
    "\n",
    "Xtrain = np.zeros([n_classes, n_examples - n_test, num_t, num_x, num_y])\n",
    "Xval = np.zeros([n_classes, n_test, num_t, num_x, num_y])\n",
    "print(Xtrain.shape)\n",
    "print(Xval.shape)"
   ]
  },
  {
   "cell_type": "code",
   "execution_count": 17,
   "id": "bc01fdaa",
   "metadata": {},
   "outputs": [
    {
     "name": "stdout",
     "output_type": "stream",
     "text": [
      "(86394, 1)\n",
      "(37026, 1)\n"
     ]
    }
   ],
   "source": [
    "\n",
    "ytrain = []\n",
    "for i in range(n_classes * (n_examples - n_test) *  num_y * num_x * num_t): \n",
    "    ytrain.append(int(i / ((n_examples - n_test) * num_y * num_x * num_t)))\n",
    "ytrain = np.asarray(ytrain)\n",
    "ytrain = ytrain.reshape([n_classes * (n_examples - n_test) * num_y * num_x * num_t, 1])\n",
    "yval = []\n",
    "for i in range(n_classes * n_test *  num_y * num_x * num_t): \n",
    "    yval.append(int(i / (n_test * num_y * num_x * num_t)))\n",
    "yval = np.asarray(yval)\n",
    "yval = yval.reshape([n_classes * n_test * num_y * num_x * num_t, 1])\n",
    "\n",
    "print(ytrain.shape)\n",
    "print(yval.shape)"
   ]
  },
  {
   "cell_type": "code",
   "execution_count": 111,
   "id": "6e42c283",
   "metadata": {},
   "outputs": [
    {
     "data": {
      "text/plain": [
       "0.5"
      ]
     },
     "execution_count": 111,
     "metadata": {},
     "output_type": "execute_result"
    }
   ],
   "source": []
  },
  {
   "cell_type": "code",
   "execution_count": 18,
   "id": "680a4f4d",
   "metadata": {},
   "outputs": [],
   "source": [
    "#Come back to this\n",
    "\n",
    "def get_batch(batch_size, s = \"train\"):\n",
    "    \"\"\"\n",
    "    Create batch of n pairs, half same class, half different class\n",
    "    \"\"\"\n",
    "    if s == 'train':\n",
    "        X = Xtrain\n",
    "        categories = ytrain\n",
    "    else:\n",
    "        X = Xval\n",
    "        categories = yval\n",
    "    n_c, n_e, t, h, w = X.shape\n",
    "    \n",
    "    # randomly sample several classes to use in the batch\n",
    "    categories = rng.choice(n_c, size=(batch_size,), replace=False)\n",
    "    \n",
    "    # initialize 2 empty arrays for the input image batch\n",
    "    pairs=[np.zeros((batch_size,t, h, w, 1)) for i in range(2)]\n",
    "    \n",
    "    # initialize vector for the targets\n",
    "    targets=np.zeros((batch_size,))\n",
    "    \n",
    "    # make one half of it '1's, so 2nd half of batch has same class\n",
    "    targets[batch_size // 2:] = 1\n",
    "    for i in range(batch_size):\n",
    "        category = categories[i]\n",
    "        idx_1 = rng.randint(0, n_e)\n",
    "        pairs[0][i, :, :, :] = X[category, idx_1].reshape(t,h, w, 1)\n",
    "        idx_2 = rng.randint(0, n_e)\n",
    "        \n",
    "        # pick images of same class for 1st half, different for 2nd\n",
    "        if i >= batch_size // 2:\n",
    "            category_2 = category  \n",
    "        else: \n",
    "            # add a random number to the category modulo n classes to ensure 2nd image has a different category\n",
    "            category_2 = (category + rng.randint(1, n_c)) % n_c\n",
    "        \n",
    "        pairs[1][i, :, :, :] = X[category_2, idx_2].reshape(h, w, 1)\n",
    "    \n",
    "    return pairs, targets"
   ]
  },
  {
   "cell_type": "code",
   "execution_count": 19,
   "id": "828e8fd3",
   "metadata": {},
   "outputs": [
    {
     "data": {
      "text/plain": [
       "(2, 7, 51, 11, 11)"
      ]
     },
     "execution_count": 19,
     "metadata": {},
     "output_type": "execute_result"
    }
   ],
   "source": [
    "Xtrain.shape"
   ]
  },
  {
   "cell_type": "code",
   "execution_count": 20,
   "id": "18006c23",
   "metadata": {},
   "outputs": [
    {
     "ename": "NameError",
     "evalue": "name 'n_c' is not defined",
     "output_type": "error",
     "traceback": [
      "\u001b[1;31m---------------------------------------------------------------------------\u001b[0m",
      "\u001b[1;31mNameError\u001b[0m                                 Traceback (most recent call last)",
      "Cell \u001b[1;32mIn[20], line 1\u001b[0m\n\u001b[1;32m----> 1\u001b[0m rng\u001b[38;5;241m.\u001b[39mchoice(n_c, size\u001b[38;5;241m=\u001b[39m(\u001b[38;5;241m1\u001b[39m,), replace\u001b[38;5;241m=\u001b[39m\u001b[38;5;28;01mFalse\u001b[39;00m)\n",
      "\u001b[1;31mNameError\u001b[0m: name 'n_c' is not defined"
     ]
    }
   ],
   "source": [
    "rng.choice(n_c, size=(1,), replace=False)"
   ]
  },
  {
   "cell_type": "code",
   "execution_count": 21,
   "id": "47b9f91e",
   "metadata": {},
   "outputs": [
    {
     "name": "stdout",
     "output_type": "stream",
     "text": [
      "2.12.0\n"
     ]
    }
   ],
   "source": [
    "from tensorflow.keras.layers import Input, Conv2D, Lambda, Dense, Flatten,MaxPooling2D, concatenate, Dropout\n",
    "from tensorflow.keras.models import Model, Sequential\n",
    "from tensorflow.keras.constraints import Constraint\n",
    "from tensorflow.keras.optimizers import SGD, Adam, RMSprop, Adadelta\n",
    "from tensorflow.keras.regularizers import l1, l2\n",
    "from tensorflow.keras.utils import plot_model\n",
    "from tensorflow.keras import backend as K\n",
    "\n",
    "import tensorflow as tf\n",
    "print(tf.__version__)"
   ]
  },
  {
   "cell_type": "code",
   "execution_count": null,
   "id": "a3739f18",
   "metadata": {},
   "outputs": [],
   "source": [
    "def make_oneshot_task(N, s=\"val\"):\n",
    "    \"\"\"Create pairs of test image, support set for testing N way one-shot learning. \"\"\"\n",
    "    if s == 'train':\n",
    "        X = Xtrain\n",
    "        categories = ytrain\n",
    "    else:\n",
    "        X = Xval\n",
    "        categories = yval\n",
    "    n_classes, n_examples, t,h, w = X.shape\n",
    "    \n",
    "    categories = rng.choice(range(n_classes), size=(N,), replace=False)            \n",
    "    indices = rng.randint(0, n_examples, size=(N,))\n",
    "    \n",
    "    true_category = categories[0]\n",
    "    ex1, ex2 = rng.choice(n_examples, replace=False, size=(2,))\n",
    "    test_image = np.asarray([X[true_category, ex1,:,:,:]] * N).reshape(N, h, w, t,1)\n",
    "    indices[0] = ex2\n",
    "    support_set = X[categories, indices, :, :,:]\n",
    "    #support_set[0, :, :] = X[true_category, ex2]\n",
    "    support_set = support_set.reshape(N, h, w, t,1)\n",
    "    targets = np.zeros((N,))\n",
    "    targets[0] = 1\n",
    "   # targets, test_image, support_set = shuffle(targets, test_image, support_set)\n",
    "    pairs = [test_image, support_set]\n",
    "    ## aj\n",
    "    cat = categories\n",
    "    ind = [ex1, indices]\n",
    "    ## aj\n",
    "    return pairs, targets, cat, ind\n",
    "\n",
    "  \n",
    "def test_oneshot(model, N, k, s = \"val\", verbose = 0):\n",
    "    \"\"\"Test average N way oneshot learning accuracy of a siamese neural net over k one-shot tasks\"\"\"\n",
    "    n_correct = 0\n",
    "    if verbose:\n",
    "        print(\"Evaluating model on {} random {} way one-shot learning tasks ... \\n\".format(k, N))\n",
    "    for i in range(k):\n",
    "        inputs, targets, __, __ = make_oneshot_task(N, s)\n",
    "        probs = model.predict(inputs)\n",
    "        if np.argmax(probs) == np.argmax(targets):\n",
    "            n_correct += 1\n",
    "    percent_correct = (100.0 * n_correct / k)\n",
    "    if verbose:\n",
    "        print(\"Got an average of {}% {} way one-shot learning accuracy \\n\".format(percent_correct,N))\n",
    "    return percent_correct"
   ]
  },
  {
   "cell_type": "code",
   "execution_count": 24,
   "id": "216aba69",
   "metadata": {},
   "outputs": [
    {
     "name": "stdout",
     "output_type": "stream",
     "text": [
      "[5 5 0 1 1 4 4]\n",
      "[1 0]\n",
      "0\n",
      "5\n"
     ]
    },
    {
     "data": {
      "text/plain": [
       "(7, 51, 11, 11)"
      ]
     },
     "execution_count": 24,
     "metadata": {},
     "output_type": "execute_result"
    }
   ],
   "source": [
    "iii = rng.randint(0, 6, size=(7,))\n",
    "jjj = rng.choice(range(n_classes), size=(2,), replace=False) \n",
    "eii1, eii2 = rng.choice(6, replace=False, size=(2,))\n",
    "print(iii)\n",
    "print(jjj)\n",
    "print(eii1)\n",
    "print(eii2)\n",
    "#\n",
    "Xtrain[jjj[0], iii, :, :,:].shape\n",
    "#aaa = np.asarray([Xtrain[jjj[0], eii1,:,:,:]] * 7).reshape(2, num_y, num_x,num_t, 1)\n",
    "#aaa.shape\n",
    "#bbb = Xtrain[jjj, iii, :, :,:]"
   ]
  },
  {
   "cell_type": "code",
   "execution_count": 43,
   "id": "e897c502",
   "metadata": {},
   "outputs": [
    {
     "data": {
      "text/plain": [
       "0.0"
      ]
     },
     "execution_count": 43,
     "metadata": {},
     "output_type": "execute_result"
    }
   ],
   "source": [
    "np.asarray([Xtrain[jjj[0], eii1,:,:,:]])"
   ]
  },
  {
   "cell_type": "code",
   "execution_count": null,
   "id": "c0d6a53a",
   "metadata": {},
   "outputs": [],
   "source": []
  },
  {
   "cell_type": "code",
   "execution_count": 33,
   "id": "b358751d",
   "metadata": {},
   "outputs": [
    {
     "name": "stdout",
     "output_type": "stream",
     "text": [
      "[2 1 5 1 5 3 2]\n",
      "[1 0]\n",
      "4\n",
      "5\n"
     ]
    },
    {
     "ename": "NameError",
     "evalue": "name 'grid_ny' is not defined",
     "output_type": "error",
     "traceback": [
      "\u001b[1;31m---------------------------------------------------------------------------\u001b[0m",
      "\u001b[1;31mNameError\u001b[0m                                 Traceback (most recent call last)",
      "Cell \u001b[1;32mIn[33], line 11\u001b[0m\n\u001b[0;32m      9\u001b[0m \u001b[38;5;66;03m#\u001b[39;00m\n\u001b[0;32m     10\u001b[0m Xtrain[jjj[\u001b[38;5;241m0\u001b[39m], iii, :, :,:]\u001b[38;5;241m.\u001b[39mshape\n\u001b[1;32m---> 11\u001b[0m aaa \u001b[38;5;241m=\u001b[39m np\u001b[38;5;241m.\u001b[39masarray([Xtrain[jjj[\u001b[38;5;241m0\u001b[39m], eii1,:,:]] \u001b[38;5;241m*\u001b[39m \u001b[38;5;241m7\u001b[39m)\u001b[38;5;241m.\u001b[39mreshape(\u001b[38;5;241m7\u001b[39m, grid_ny, grid_nx, \u001b[38;5;241m1\u001b[39m)\n\u001b[0;32m     12\u001b[0m aaa\u001b[38;5;241m.\u001b[39mshape\n\u001b[0;32m     13\u001b[0m bbb \u001b[38;5;241m=\u001b[39m Xtrain[jjj, iii, :, :]\n",
      "\u001b[1;31mNameError\u001b[0m: name 'grid_ny' is not defined"
     ]
    }
   ],
   "source": [
    "# one shot task: testing\n",
    "iii = rng.randint(0, 6, size=(7,))\n",
    "jjj = rng.choice(range(n_classes), size=(2,), replace=False) \n",
    "eii1, eii2 = rng.choice(6, replace=False, size=(2,))\n",
    "print(iii)\n",
    "print(jjj)\n",
    "print(eii1)\n",
    "print(eii2)\n",
    "#\n",
    "Xtrain[jjj[0], iii, :, :,:].shape\n",
    "aaa = np.asarray([Xtrain[jjj[0], eii1,:,:]] * 7).reshape(7, grid_ny, grid_nx, 1)\n",
    "aaa.shape\n",
    "bbb = Xtrain[jjj, iii, :, :,:]\n",
    "bbb[0, :, :] = Xtrain[jjj[0], eii2, :, :]\n",
    "bbb = bbb.reshape(7, num_y, num_x, 1)\n",
    "fig, axs = plt.subplots(7, 2, figsize=(10, 10))\n",
    "for i in range(7):\n",
    "  axs[i, 0].imshow(aaa[i, :, :, 0])\n",
    "  axs[i, 1].imshow(bbb[i, :, :, 0])"
   ]
  }
 ],
 "metadata": {
  "kernelspec": {
   "display_name": "Python 3 (ipykernel)",
   "language": "python",
   "name": "python3"
  },
  "language_info": {
   "codemirror_mode": {
    "name": "ipython",
    "version": 3
   },
   "file_extension": ".py",
   "mimetype": "text/x-python",
   "name": "python",
   "nbconvert_exporter": "python",
   "pygments_lexer": "ipython3",
   "version": "3.11.3"
  }
 },
 "nbformat": 4,
 "nbformat_minor": 5
}
